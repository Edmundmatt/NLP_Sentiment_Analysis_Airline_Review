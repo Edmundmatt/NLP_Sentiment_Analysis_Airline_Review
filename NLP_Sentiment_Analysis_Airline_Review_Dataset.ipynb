{
  "cells": [
    {
      "cell_type": "code",
      "execution_count": null,
      "metadata": {
        "id": "ntBLbLyBTGaO"
      },
      "outputs": [],
      "source": [
        "import pandas as pd\n",
        "import numpy as np\n",
        "import matplotlib.pyplot as plt\n",
        "from sklearn import preprocessing, model_selection\n",
        "from keras.preprocessing import text, sequence\n",
        "from keras.models import Sequential\n",
        "from keras import layers\n",
        "from tensorflow.keras.utils import to_categorical\n",
        "from keras.layers.pooling import GlobalAveragePooling1D\n",
        "from tensorflow.keras.optimizers import SGD"
      ]
    },
    {
      "cell_type": "code",
      "execution_count": null,
      "metadata": {
        "colab": {
          "base_uri": "https://localhost:8080/"
        },
        "id": "e_gCsLUk29EK",
        "outputId": "0216ae91-07b8-4804-9fbf-39e7b35433df"
      },
      "outputs": [
        {
          "output_type": "stream",
          "name": "stdout",
          "text": [
            "Archive:  /content/archive.zip\n",
            "  inflating: Tweets.csv              \n",
            "  inflating: database.sqlite         \n"
          ]
        }
      ],
      "source": [
        "# Extract airline review tweet dataset\n",
        "!unzip /content/archive.zip\n"
      ]
    },
    {
      "cell_type": "code",
      "source": [
        "# from google.colab import drive\n",
        "# drive.mount('/content/drive')"
      ],
      "metadata": {
        "id": "K-_B-mKsJ4zP"
      },
      "execution_count": null,
      "outputs": []
    },
    {
      "cell_type": "code",
      "execution_count": null,
      "metadata": {
        "colab": {
          "base_uri": "https://localhost:8080/"
        },
        "id": "eV-luAfP445K",
        "outputId": "fdc838dd-025f-40e4-aa72-da3d3c04579c"
      },
      "outputs": [
        {
          "output_type": "stream",
          "name": "stdout",
          "text": [
            "3\n",
            "0                  @VirginAmerica What @dhepburn said.\n",
            "1    @VirginAmerica plus you've added commercials t...\n",
            "2    @VirginAmerica I didn't today... Must mean I n...\n",
            "3    @VirginAmerica it's really aggressive to blast...\n",
            "4    @VirginAmerica and it's a really big bad thing...\n",
            "5    @VirginAmerica seriously would pay $30 a fligh...\n",
            "6    @VirginAmerica yes, nearly every time I fly VX...\n",
            "7    @VirginAmerica Really missed a prime opportuni...\n",
            "8    @virginamerica Well, I didn'tâ¦but NOW I DO! :-D\n",
            "9    @VirginAmerica it was amazing, and arrived an ...\n",
            "Name: text, dtype: object\n",
            "0    1\n",
            "1    2\n",
            "2    1\n",
            "3    0\n",
            "4    0\n",
            "5    0\n",
            "6    2\n",
            "7    1\n",
            "8    2\n",
            "9    2\n",
            "Name: airline_sentiment, dtype: int64\n"
          ]
        }
      ],
      "source": [
        "# Read CSV\n",
        "url = '/content/Tweets.csv'\n",
        "data = pd.read_csv(url, encoding=\"latin-1\", on_bad_lines='skip')\n",
        "# Encode labels\n",
        "label_encoder = preprocessing.LabelEncoder()\n",
        "data['airline_sentiment'] = label_encoder.fit_transform(data['airline_sentiment'])\n",
        "data['airline_sentiment']\n",
        "num_class = len(pd.unique(data['airline_sentiment']))\n",
        "print(num_class)\n",
        "\n",
        "# Split dataset into training and test sets\n",
        "train_x, test_x, train_y, test_y = model_selection.train_test_split(data['text'],\n",
        "    data['airline_sentiment'], test_size=0.2, shuffle=False)\n",
        "\n",
        "print(train_x[0:10])\n",
        "print(train_y[0:10])"
      ]
    },
    {
      "cell_type": "code",
      "execution_count": null,
      "metadata": {
        "id": "PCZP7c9YCLLS"
      },
      "outputs": [],
      "source": [
        "# Determine the max length of the tweets\n",
        "\n",
        "i = 0\n",
        "max_length = 0\n",
        "for i in range(len(data)):\n",
        "  if(len(data['text'][i]) > max_length):\n",
        "    max_length = len(data['text'][i])\n",
        "\n",
        "# max_length\n",
        "# print(data['text'][x])"
      ]
    },
    {
      "cell_type": "code",
      "execution_count": null,
      "metadata": {
        "id": "_igotk8q5l6q"
      },
      "outputs": [],
      "source": [
        "# word to integer ID tokenizing + padding\n",
        "tokenizer = text.Tokenizer()\n",
        "tokenizer.fit_on_texts(data['text'])\n",
        "word_index = tokenizer.word_index\n",
        "\n",
        "train_x_seq = sequence.pad_sequences(tokenizer.texts_to_sequences(train_x), maxlen=max_length)\n",
        "test_x_seq = sequence.pad_sequences(tokenizer.texts_to_sequences(test_x), maxlen=max_length)\n",
        "\n",
        "train_y = to_categorical(train_y, num_class)\n",
        "test_y = to_categorical(test_y, num_class)\n",
        "\n",
        "# train_x_seq[3]"
      ]
    },
    {
      "cell_type": "code",
      "execution_count": null,
      "metadata": {
        "colab": {
          "base_uri": "https://localhost:8080/"
        },
        "id": "Gfkn56g2FuJ6",
        "outputId": "991ec6cd-aeef-445d-9695-06ed68bc1186"
      },
      "outputs": [
        {
          "output_type": "stream",
          "name": "stdout",
          "text": [
            "Model: \"sequential\"\n",
            "_________________________________________________________________\n",
            " Layer (type)                Output Shape              Param #   \n",
            "=================================================================\n",
            " embedding (Embedding)       (None, None, 150)         2365500   \n",
            "                                                                 \n",
            " conv1d (Conv1D)             (None, None, 128)         96128     \n",
            "                                                                 \n",
            " global_average_pooling1d (G  (None, 128)              0         \n",
            " lobalAveragePooling1D)                                          \n",
            "                                                                 \n",
            " dense (Dense)               (None, 32)                4128      \n",
            "                                                                 \n",
            " activation (Activation)     (None, 32)                0         \n",
            "                                                                 \n",
            " dropout (Dropout)           (None, 32)                0         \n",
            "                                                                 \n",
            " dense_1 (Dense)             (None, 3)                 99        \n",
            "                                                                 \n",
            " activation_1 (Activation)   (None, 3)                 0         \n",
            "                                                                 \n",
            "=================================================================\n",
            "Total params: 2,465,855\n",
            "Trainable params: 2,465,855\n",
            "Non-trainable params: 0\n",
            "_________________________________________________________________\n",
            "(11712, 229)\n",
            "(11712, 3)\n",
            "Epoch 1/5\n",
            "165/165 [==============================] - 30s 179ms/step - loss: 0.9922 - accuracy: 0.5854 - val_loss: 0.8178 - val_accuracy: 0.7491\n",
            "Epoch 2/5\n",
            "165/165 [==============================] - 29s 177ms/step - loss: 0.9655 - accuracy: 0.5895 - val_loss: 0.8079 - val_accuracy: 0.7491\n",
            "Epoch 3/5\n",
            "165/165 [==============================] - 29s 177ms/step - loss: 0.9637 - accuracy: 0.5895 - val_loss: 0.8027 - val_accuracy: 0.7491\n",
            "Epoch 4/5\n",
            "165/165 [==============================] - 29s 178ms/step - loss: 0.9640 - accuracy: 0.5895 - val_loss: 0.7999 - val_accuracy: 0.7491\n",
            "Epoch 5/5\n",
            "165/165 [==============================] - 29s 177ms/step - loss: 0.9628 - accuracy: 0.5895 - val_loss: 0.8040 - val_accuracy: 0.7491\n",
            "92/92 [==============================] - 2s 23ms/step - loss: 0.8380 - accuracy: 0.7128\n",
            "[0.8379700779914856, 0.7127732038497925]\n"
          ]
        }
      ],
      "source": [
        "\n",
        "\n",
        "# Create CNN\n",
        "vocab_size = len(word_index)+1\n",
        "\n",
        "model = Sequential()\n",
        "model.add(layers.Embedding(vocab_size, 150))\n",
        "model.add(layers.Conv1D(filters=128, kernel_size=5, activation='relu')) \n",
        "# Should experiment with kernel size and no of filters\n",
        "\n",
        "\n",
        "model.add(layers.GlobalAveragePooling1D())\n",
        "model.add(layers.Dense(32, input_shape=(vocab_size, )))\n",
        "model.add(layers.Activation(activation='relu'))\n",
        "model.add(layers.Dropout(0.25))\n",
        "model.add(layers.Dense(3))\n",
        "model.add(layers.Activation('softmax'))\n",
        "\n",
        "model.summary()\n",
        "\n",
        "opt = SGD()\n",
        "model.compile(optimizer=opt, \n",
        "              loss='categorical_crossentropy',\n",
        "              metrics=['accuracy'])\n",
        "\n",
        "print(train_x_seq.shape)\n",
        "print(train_y.shape)\n",
        "\n",
        "history = model.fit(\n",
        "    train_x_seq,\n",
        "    train_y,\n",
        "    epochs=5,\n",
        "    batch_size=64,\n",
        "    validation_split=0.1,\n",
        "    verbose=1)\n",
        "\n",
        "results = model.evaluate(test_x_seq, test_y)\n",
        "\n",
        "\n",
        "\n",
        "print(results)"
      ]
    },
    {
      "cell_type": "code",
      "source": [
        "# Function for plotting accuracy and loss\n",
        "def plot_model(a, b, title, ylabel, xlabel):\n",
        "  plt.plot(a)\n",
        "  plt.plot(b)\n",
        "  plt.title(title)\n",
        "  plt.ylabel(ylabel)\n",
        "  plt.xlabel(xlabel)\n",
        "  plt.legend(['train', 'test'], loc='upper left')\n",
        "  plt.show()"
      ],
      "metadata": {
        "id": "_y_JIF3g3Zhj"
      },
      "execution_count": null,
      "outputs": []
    },
    {
      "cell_type": "code",
      "source": [
        "plot_model(history.history['accuracy'], history.history['val_accuracy'], \n",
        "           'model accuracy', 'accuracy', 'epoch')\n",
        "plot_model(history.history['loss'], history.history['val_loss'], \n",
        "           'model loss', 'loss', 'epoch')"
      ],
      "metadata": {
        "colab": {
          "base_uri": "https://localhost:8080/",
          "height": 573
        },
        "id": "oJXC6Zc2soXl",
        "outputId": "1af5b751-6edb-4219-f40b-d7825982126d"
      },
      "execution_count": null,
      "outputs": [
        {
          "output_type": "display_data",
          "data": {
            "text/plain": [
              "<Figure size 432x288 with 1 Axes>"
            ],
            "image/png": "[encoded data removed]"
          },
          "metadata": {
            "needs_background": "light"
          }
        },
        {
          "output_type": "display_data",
          "data": {
            "text/plain": [
              "<Figure size 432x288 with 1 Axes>"
            ],
            "image/png": "[encoded data removed]"
          },
          "metadata": {
            "needs_background": "light"
          }
        }
      ]
    }
  ],
  "metadata": {
    "colab": {
      "collapsed_sections": [],
      "provenance": []
    },
    "kernelspec": {
      "display_name": "Python 3",
      "name": "python3"
    },
    "language_info": {
      "name": "python"
    }
  },
  "nbformat": 4,
  "nbformat_minor": 0
}